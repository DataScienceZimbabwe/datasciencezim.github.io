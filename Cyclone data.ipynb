{
 "cells": [
  {
   "cell_type": "code",
   "execution_count": 155,
   "metadata": {},
   "outputs": [],
   "source": [
    "import pandas as pd\n",
    "import numpy as np\n",
    "import random"
   ]
  },
  {
   "cell_type": "code",
   "execution_count": 156,
   "metadata": {},
   "outputs": [],
   "source": [
    "data = pd.DataFrame(columns = ['Cyclone Id','City','Date','Temperature','Latitude','Longitude', 'Wind','Altitude','Magnitude'], index = np.arange(100))"
   ]
  },
  {
   "cell_type": "code",
   "execution_count": 157,
   "metadata": {},
   "outputs": [],
   "source": [
    "data['Cyclone Id'] = list(range(100))\n",
    "cities = ['Chimanimani', 'Mutare', 'Buhera', 'Chipinge', 'Binga', 'Harare']\n",
    "data['City'] = random.sample(cities,5)*20\n",
    "dates = pd.date_range(start='1900-01-01', periods = 100, freq='Y')\n",
    "data['Date'] = np.array(dates)\n",
    "data['Temperature'] = np.random.randint(5,40,100)\n",
    "data['Latitude'] = np.random.randint(18,60,100)\n",
    "data['Longitude'] = np.random.randint(18,60,100)\n",
    "data['Wind'] = np.random.randint(0,360,100)\n",
    "data['Altitude'] = np.random.randint(1000,5000,100)\n",
    "data['Magnitude'] = np.random.randint(1,5,100)"
   ]
  },
  {
   "cell_type": "code",
   "execution_count": 158,
   "metadata": {},
   "outputs": [
    {
     "data": {
      "text/html": [
       "<div>\n",
       "<style scoped>\n",
       "    .dataframe tbody tr th:only-of-type {\n",
       "        vertical-align: middle;\n",
       "    }\n",
       "\n",
       "    .dataframe tbody tr th {\n",
       "        vertical-align: top;\n",
       "    }\n",
       "\n",
       "    .dataframe thead th {\n",
       "        text-align: right;\n",
       "    }\n",
       "</style>\n",
       "<table border=\"1\" class=\"dataframe\">\n",
       "  <thead>\n",
       "    <tr style=\"text-align: right;\">\n",
       "      <th></th>\n",
       "      <th>Cyclone Id</th>\n",
       "      <th>City</th>\n",
       "      <th>Date</th>\n",
       "      <th>Temperature</th>\n",
       "      <th>Latitude</th>\n",
       "      <th>Longitude</th>\n",
       "      <th>Wind</th>\n",
       "      <th>Altitude</th>\n",
       "      <th>Magnitude</th>\n",
       "    </tr>\n",
       "  </thead>\n",
       "  <tbody>\n",
       "    <tr>\n",
       "      <th>0</th>\n",
       "      <td>0</td>\n",
       "      <td>Harare</td>\n",
       "      <td>1900-12-31</td>\n",
       "      <td>34</td>\n",
       "      <td>18</td>\n",
       "      <td>38</td>\n",
       "      <td>44</td>\n",
       "      <td>2818</td>\n",
       "      <td>4</td>\n",
       "    </tr>\n",
       "    <tr>\n",
       "      <th>1</th>\n",
       "      <td>1</td>\n",
       "      <td>Chimanimani</td>\n",
       "      <td>1901-12-31</td>\n",
       "      <td>16</td>\n",
       "      <td>46</td>\n",
       "      <td>20</td>\n",
       "      <td>305</td>\n",
       "      <td>2386</td>\n",
       "      <td>3</td>\n",
       "    </tr>\n",
       "    <tr>\n",
       "      <th>2</th>\n",
       "      <td>2</td>\n",
       "      <td>Mutare</td>\n",
       "      <td>1902-12-31</td>\n",
       "      <td>13</td>\n",
       "      <td>48</td>\n",
       "      <td>38</td>\n",
       "      <td>252</td>\n",
       "      <td>1449</td>\n",
       "      <td>1</td>\n",
       "    </tr>\n",
       "    <tr>\n",
       "      <th>3</th>\n",
       "      <td>3</td>\n",
       "      <td>Buhera</td>\n",
       "      <td>1903-12-31</td>\n",
       "      <td>6</td>\n",
       "      <td>51</td>\n",
       "      <td>23</td>\n",
       "      <td>186</td>\n",
       "      <td>3504</td>\n",
       "      <td>3</td>\n",
       "    </tr>\n",
       "    <tr>\n",
       "      <th>4</th>\n",
       "      <td>4</td>\n",
       "      <td>Chipinge</td>\n",
       "      <td>1904-12-31</td>\n",
       "      <td>32</td>\n",
       "      <td>24</td>\n",
       "      <td>27</td>\n",
       "      <td>338</td>\n",
       "      <td>3339</td>\n",
       "      <td>3</td>\n",
       "    </tr>\n",
       "  </tbody>\n",
       "</table>\n",
       "</div>"
      ],
      "text/plain": [
       "   Cyclone Id         City       Date  Temperature  Latitude  Longitude  Wind  \\\n",
       "0           0       Harare 1900-12-31           34        18         38    44   \n",
       "1           1  Chimanimani 1901-12-31           16        46         20   305   \n",
       "2           2       Mutare 1902-12-31           13        48         38   252   \n",
       "3           3       Buhera 1903-12-31            6        51         23   186   \n",
       "4           4     Chipinge 1904-12-31           32        24         27   338   \n",
       "\n",
       "   Altitude  Magnitude  \n",
       "0      2818          4  \n",
       "1      2386          3  \n",
       "2      1449          1  \n",
       "3      3504          3  \n",
       "4      3339          3  "
      ]
     },
     "execution_count": 158,
     "metadata": {},
     "output_type": "execute_result"
    }
   ],
   "source": [
    "data.head()"
   ]
  },
  {
   "cell_type": "code",
   "execution_count": 162,
   "metadata": {},
   "outputs": [],
   "source": [
    "Cyclone_Data = data.to_csv('data.csv')"
   ]
  },
  {
   "cell_type": "code",
   "execution_count": null,
   "metadata": {},
   "outputs": [],
   "source": []
  },
  {
   "cell_type": "code",
   "execution_count": null,
   "metadata": {},
   "outputs": [],
   "source": []
  },
  {
   "cell_type": "code",
   "execution_count": null,
   "metadata": {},
   "outputs": [],
   "source": []
  }
 ],
 "metadata": {
  "kernelspec": {
   "display_name": "Python 3",
   "language": "python",
   "name": "python3"
  },
  "language_info": {
   "codemirror_mode": {
    "name": "ipython",
    "version": 3
   },
   "file_extension": ".py",
   "mimetype": "text/x-python",
   "name": "python",
   "nbconvert_exporter": "python",
   "pygments_lexer": "ipython3",
   "version": "3.6.4"
  }
 },
 "nbformat": 4,
 "nbformat_minor": 2
}
